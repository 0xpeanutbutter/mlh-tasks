{
 "cells": [
  {
   "cell_type": "code",
   "execution_count": 15,
   "metadata": {},
   "outputs": [],
   "source": [
    "#imports\n",
    "\n",
    "import numpy as np\n",
    "import requests\n",
    "import pandas as pd\n",
    "from bs4 import BeautifulSoup\n",
    "import bs4\n",
    "from fastnumbers import isfloat\n",
    "from fastnumbers import fast_float\n",
    "from multiprocessing.dummy import Pool as ThreadPool \n",
    "import matplotlib.pyplot as plt\n",
    "import seaborn as sns\n",
    "import json\n",
    "sns.set_style(\"whitegrid\")\n",
    "%matplotlib inline\n",
    "from IPython.core.interactiveshell import InteractiveShell\n",
    "InteractiveShell.ast_node_interactivity = \"all\""
   ]
  },
  {
   "cell_type": "code",
   "execution_count": 16,
   "metadata": {},
   "outputs": [],
   "source": [
    "#input caretaker\n",
    "\n",
    "def ffloat(string):\n",
    "    if string is None:\n",
    "        return np.nan\n",
    "    if type(string)==float or type(string)==np.float64:\n",
    "        return string\n",
    "    if type(string)==int or type(string)==np.int64:\n",
    "        return string\n",
    "    return fast_float(string,split(\" \")[0].replace(',','').replace(\"%\",''),default=np.nan)\n",
    "\n",
    "def ffloat_list(strl):\n",
    "    return list(map(ffloat,strl))\n",
    "\n",
    "def remove_spaces(string):\n",
    "    if(type(string)==str):\n",
    "        return ' '.join(string.split())\n",
    "    return string"
   ]
  },
  {
   "cell_type": "code",
   "execution_count": 21,
   "metadata": {},
   "outputs": [
    {
     "data": {
      "text/plain": [
       "200"
      ]
     },
     "execution_count": 21,
     "metadata": {},
     "output_type": "execute_result"
    },
    {
     "data": {
      "text/plain": [
       "b'<!DOCTYPE html>\\n<html lang=\"en\" dir=\"ltr\">\\n  <head>\\n    <title>Omar</title>\\n    <link rel=\"icon\" href=\"src/icon.png\">\\n    <meta charset=\"utf-8\">\\n    <link rel=\"stylesheet\" type=\"text/css\" href=\"css/style.css\">\\n    <script src=\"js/main.js\"></script>\\n  </head>\\n  <body>\\n\\n    <div class=\"container\">\\n\\n      <div id=\"sidebar\">\\n      <center>\\n        <img id=\"port\" src=\"src/profile.jpg\">\\n        <p><strong>Umar Farooq</strong></p>\\n        <p>Undergrad at Computer Science Engineering Department</p>\\n        <p>NIT Calicut</p>\\n        <p>2018 - 2022</p>\\n      </center>\\n      </div>\\n      <div id=\"terminal\">\\n        <div id=\"injected\"></div>\\n        <div id=\"userInput\">\\n          <input type=\"text\" value=\"root@omar\\'s website:~$\" id=\"prompt\" size = \"28\" readonly=\"readonly\">\\n          <input type=\"text\" id=\"txtBox\" onkeypress=\"commandProcessor(event)\" placeholder=\"Enter help for commands list\" size = \"40\" autofocus>\\n        </div>\\n      </div>\\n\\n    </div>\\n\\n  </body>\\n</html>\\n'"
      ]
     },
     "execution_count": 21,
     "metadata": {},
     "output_type": "execute_result"
    }
   ],
   "source": [
    "response = requests.get(\"https://omars.live\")\n",
    "response.status_code\n",
    "content = response.content"
   ]
  },
  {
   "cell_type": "code",
   "execution_count": 22,
   "metadata": {},
   "outputs": [
    {
     "data": {
      "text/plain": [
       "'/home/omar'"
      ]
     },
     "execution_count": 22,
     "metadata": {},
     "output_type": "execute_result"
    }
   ],
   "source": []
  }
 ],
 "metadata": {
  "kernelspec": {
   "display_name": "Python 3",
   "language": "python",
   "name": "python3"
  },
  "language_info": {
   "codemirror_mode": {
    "name": "ipython",
    "version": 3
   },
   "file_extension": ".py",
   "mimetype": "text/x-python",
   "name": "python",
   "nbconvert_exporter": "python",
   "pygments_lexer": "ipython3",
   "version": "3.7.4"
  }
 },
 "nbformat": 4,
 "nbformat_minor": 2
}
